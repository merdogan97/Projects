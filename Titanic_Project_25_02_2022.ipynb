{
  "metadata": {
    "kernelspec": {
      "language": "python",
      "display_name": "Python 3",
      "name": "python3"
    },
    "language_info": {
      "name": "python",
      "version": "3.7.12",
      "mimetype": "text/x-python",
      "codemirror_mode": {
        "name": "ipython",
        "version": 3
      },
      "pygments_lexer": "ipython3",
      "nbconvert_exporter": "python",
      "file_extension": ".py"
    },
    "colab": {
      "name": "Titanic_Project_25.02.2022.ipynb",
      "provenance": [],
      "include_colab_link": true
    }
  },
  "nbformat_minor": 0,
  "nbformat": 4,
  "cells": [
    {
      "cell_type": "markdown",
      "metadata": {
        "id": "view-in-github",
        "colab_type": "text"
      },
      "source": [
        "<a href=\"https://colab.research.google.com/github/merdogan97/Projects/blob/main/Titanic_Project_25_02_2022.ipynb\" target=\"_parent\"><img src=\"https://colab.research.google.com/assets/colab-badge.svg\" alt=\"Open In Colab\"/></a>"
      ]
    },
    {
      "cell_type": "markdown",
      "source": [
        "# **INTRODUCTION**\n",
        "**Titanic is one of the most notorious shiprwrecks in the history. In 1912, during her voyage, Titanic sank after colliding wit an iceberg, killing 1502 out of 2224 passengers and crew.**\n",
        "\n",
        "# **Content:**\n",
        "\n",
        " [**1. Loading and Checking Data**](#1)\n",
        "\n",
        " [**2. Variable Description**](#2)\n",
        "     \n",
        "   [**2.a Univariate Variable Analysis**](#3)\n",
        "     \n",
        "   [- Categorical Variables Analysis](#4)\n",
        "        \n",
        "   [- Numerical Variables Analysis](#5)\n",
        " \n",
        "[**3. Basic Data Analysis**](#6)\n",
        " \n",
        "[**4. Outlier Detection**](#7)\n",
        "\n",
        "[**5. Missing Values**](#8)\n",
        "\n",
        "  [- Finding Missing Values](#9)\n",
        "  \n",
        "  [- Filling Missing Values](#10)\n",
        " \n"
      ],
      "metadata": {
        "id": "1cRpa3iNPOXO"
      }
    },
    {
      "cell_type": "markdown",
      "source": [
        ""
      ],
      "metadata": {
        "id": "yiTEfSe4POXT"
      }
    },
    {
      "cell_type": "code",
      "source": [
        "# This Python 3 environment comes with many helpful analytics libraries installed\n",
        "# It is defined by the kaggle/python Docker image: https://github.com/kaggle/docker-python\n",
        "# For example, here's several helpful packages to load\n",
        "\n",
        "import numpy as np # linear algebra\n",
        "import pandas as pd # data processing, CSV file I/O (e.g. pd.read_csv)\n",
        "import matplotlib.pyplot as plt\n",
        "plt.style.use(\"seaborn-whitegrid\")\n",
        "import seaborn as sns\n",
        "\n",
        "from collections import Counter\n",
        "import warnings\n",
        "\n",
        "warnings.filterwarnings(\"ignore\")\n",
        "\n",
        "# Input data files are available in the read-only \"../input/\" directory\n",
        "# For example, running this (by clicking run or pressing Shift+Enter) will list all files under the input directory\n",
        "\n",
        "import os\n",
        "for dirname, _, filenames in os.walk('/kaggle/input'):\n",
        "    for filename in filenames:\n",
        "        print(os.path.join(dirname, filename))\n",
        "\n"
      ],
      "metadata": {
        "_uuid": "8f2839f25d086af736a60e9eeb907d3b93b6e0e5",
        "_cell_guid": "b1076dfc-b9ad-4769-8c92-a6c4dae69d19",
        "execution": {
          "iopub.status.busy": "2022-02-26T11:59:48.036722Z",
          "iopub.execute_input": "2022-02-26T11:59:48.038780Z",
          "iopub.status.idle": "2022-02-26T11:59:48.068399Z",
          "shell.execute_reply.started": "2022-02-26T11:59:48.038715Z",
          "shell.execute_reply": "2022-02-26T11:59:48.067197Z"
        },
        "trusted": true,
        "id": "lxIoElJqPOXU"
      },
      "execution_count": null,
      "outputs": []
    },
    {
      "cell_type": "markdown",
      "source": [
        "<a id =\"1\"></a><br>\n",
        "# **Loading and Ckecking Data**"
      ],
      "metadata": {
        "id": "5pkaWm5YPOXW"
      }
    },
    {
      "cell_type": "code",
      "source": [
        "train_df = pd.read_csv(\"/kaggle/input/traincsv/train.csv\")"
      ],
      "metadata": {
        "execution": {
          "iopub.status.busy": "2022-02-26T11:59:48.070916Z",
          "iopub.execute_input": "2022-02-26T11:59:48.072788Z",
          "iopub.status.idle": "2022-02-26T11:59:48.090760Z",
          "shell.execute_reply.started": "2022-02-26T11:59:48.072662Z",
          "shell.execute_reply": "2022-02-26T11:59:48.089809Z"
        },
        "trusted": true,
        "id": "6IA0qsfUPOXX"
      },
      "execution_count": null,
      "outputs": []
    },
    {
      "cell_type": "code",
      "source": [
        "# plt.style.available"
      ],
      "metadata": {
        "execution": {
          "iopub.status.busy": "2022-02-26T11:59:48.092540Z",
          "iopub.execute_input": "2022-02-26T11:59:48.093172Z",
          "iopub.status.idle": "2022-02-26T11:59:48.098376Z",
          "shell.execute_reply.started": "2022-02-26T11:59:48.093133Z",
          "shell.execute_reply": "2022-02-26T11:59:48.097210Z"
        },
        "trusted": true,
        "id": "FqKlkgHvPOXY"
      },
      "execution_count": null,
      "outputs": []
    },
    {
      "cell_type": "code",
      "source": [
        "train_df.columns"
      ],
      "metadata": {
        "execution": {
          "iopub.status.busy": "2022-02-26T11:59:48.099979Z",
          "iopub.execute_input": "2022-02-26T11:59:48.100530Z",
          "iopub.status.idle": "2022-02-26T11:59:48.116376Z",
          "shell.execute_reply.started": "2022-02-26T11:59:48.100483Z",
          "shell.execute_reply": "2022-02-26T11:59:48.115677Z"
        },
        "trusted": true,
        "id": "MDg87qKUPOXZ"
      },
      "execution_count": null,
      "outputs": []
    },
    {
      "cell_type": "code",
      "source": [
        "train_df.head()"
      ],
      "metadata": {
        "execution": {
          "iopub.status.busy": "2022-02-26T11:59:48.118097Z",
          "iopub.execute_input": "2022-02-26T11:59:48.118593Z",
          "iopub.status.idle": "2022-02-26T11:59:48.146169Z",
          "shell.execute_reply.started": "2022-02-26T11:59:48.118549Z",
          "shell.execute_reply": "2022-02-26T11:59:48.145281Z"
        },
        "trusted": true,
        "id": "N_C_7wB1POXa"
      },
      "execution_count": null,
      "outputs": []
    },
    {
      "cell_type": "code",
      "source": [
        "train_df.sample(10)"
      ],
      "metadata": {
        "execution": {
          "iopub.status.busy": "2022-02-26T11:59:48.147972Z",
          "iopub.execute_input": "2022-02-26T11:59:48.148290Z",
          "iopub.status.idle": "2022-02-26T11:59:48.171707Z",
          "shell.execute_reply.started": "2022-02-26T11:59:48.148247Z",
          "shell.execute_reply": "2022-02-26T11:59:48.170706Z"
        },
        "trusted": true,
        "id": "cwPWfifaPOXa"
      },
      "execution_count": null,
      "outputs": []
    },
    {
      "cell_type": "code",
      "source": [
        "train_df.describe()"
      ],
      "metadata": {
        "execution": {
          "iopub.status.busy": "2022-02-26T11:59:48.173228Z",
          "iopub.execute_input": "2022-02-26T11:59:48.174018Z",
          "iopub.status.idle": "2022-02-26T11:59:48.208801Z",
          "shell.execute_reply.started": "2022-02-26T11:59:48.173979Z",
          "shell.execute_reply": "2022-02-26T11:59:48.208019Z"
        },
        "trusted": true,
        "id": "fzaIPZvTPOXb"
      },
      "execution_count": null,
      "outputs": []
    },
    {
      "cell_type": "code",
      "source": [
        "train_df.info()"
      ],
      "metadata": {
        "execution": {
          "iopub.status.busy": "2022-02-26T11:59:48.210299Z",
          "iopub.execute_input": "2022-02-26T11:59:48.210658Z",
          "iopub.status.idle": "2022-02-26T11:59:48.227705Z",
          "shell.execute_reply.started": "2022-02-26T11:59:48.210622Z",
          "shell.execute_reply": "2022-02-26T11:59:48.226399Z"
        },
        "trusted": true,
        "id": "edlDU00SPOXb"
      },
      "execution_count": null,
      "outputs": []
    },
    {
      "cell_type": "markdown",
      "source": [
        "<a id =\"2\"></a><br>\n",
        "# **Variable Decriptions**\n",
        " 1. PassengerId : unique Id number to each passenger\n",
        " 2. Survived    : passenger survive (1) or died (0) \n",
        " 3. Pclass      : passenger class\n",
        " 4. Name        : The name of passenger   \n",
        " 5. Sex         : Gender of passengers         \n",
        " 6. Age         : age of passenger    \n",
        " 7. SibSp       : number of siblings /spouses    \n",
        " 8. Parch       : number of parents/ children    \n",
        " 9. Ticket      : ticket number\n",
        " 10. Fare       : amount of money spent on ticket    \n",
        " 11. Cabin      : Cabin category     \n",
        " 12. Embarked   : (C= Cherbourg, Q = Ouenstown, S = Southampton)"
      ],
      "metadata": {
        "id": "dlvHDjYdPOXc"
      }
    },
    {
      "cell_type": "code",
      "source": [
        "train_df.info()"
      ],
      "metadata": {
        "execution": {
          "iopub.status.busy": "2022-02-26T11:59:48.229883Z",
          "iopub.execute_input": "2022-02-26T11:59:48.230562Z",
          "iopub.status.idle": "2022-02-26T11:59:48.245476Z",
          "shell.execute_reply.started": "2022-02-26T11:59:48.230508Z",
          "shell.execute_reply": "2022-02-26T11:59:48.244649Z"
        },
        "trusted": true,
        "id": "vSk-CFO4POXc"
      },
      "execution_count": null,
      "outputs": []
    },
    {
      "cell_type": "markdown",
      "source": [
        "* float64(2): Fare and Age\n",
        "* int64(5)  : Pclass, sibsp, parch, passengerId and survived \n",
        "* object(5) : Cabin, embarked, ticket, name and sex"
      ],
      "metadata": {
        "id": "AFJL0PJHPOXc"
      }
    },
    {
      "cell_type": "markdown",
      "source": [
        "<a id =\"3\"></a><br>\n",
        "# Univariate Variable Analysis\n",
        " * Categorical Variables Analysis : Survive, Sex, Pclass, Embark, Name, Ticket, Sibsp, and Parch\n",
        " * Numerical Variables Analysis : Age, PassengerId, Fare"
      ],
      "metadata": {
        "id": "4hmsOmcIPOXd"
      }
    },
    {
      "cell_type": "markdown",
      "source": [
        "<a id =\"4\"></a><br>\n",
        "# **Categorical Variable Analysis**"
      ],
      "metadata": {
        "id": "-iXaZcC5POXd"
      }
    },
    {
      "cell_type": "code",
      "source": [
        "def bar_plot(variable):\n",
        "    \"\"\"\n",
        "        input : variable ex:\"Sex\"\n",
        "        output: bar plot & value count\n",
        "    \"\"\"\n",
        "    var = train_df[variable]          # getting feature\n",
        "    varValue= var.value_counts()      #  counting number of categorical (value/sample)\n",
        "    \n",
        "    plt.figure(figsize=(9,3))\n",
        "    plt.bar(varValue.index, varValue)\n",
        "    plt.xticks(varValue.index, varValue.index.values)\n",
        "    plt.ylabel(\"Frequency\")\n",
        "    plt.title(variable)\n",
        "    plt.show()\n",
        "    print(\"{}: \\n {}\".format(variable,varValue))"
      ],
      "metadata": {
        "execution": {
          "iopub.status.busy": "2022-02-26T11:59:48.246762Z",
          "iopub.execute_input": "2022-02-26T11:59:48.247921Z",
          "iopub.status.idle": "2022-02-26T11:59:48.255768Z",
          "shell.execute_reply.started": "2022-02-26T11:59:48.247872Z",
          "shell.execute_reply": "2022-02-26T11:59:48.254414Z"
        },
        "trusted": true,
        "id": "JgWsJO8pPOXe"
      },
      "execution_count": null,
      "outputs": []
    },
    {
      "cell_type": "code",
      "source": [
        "category1 = [\"Survived\", \"Sex\", \"Pclass\", \"Embarked\", \"SibSp\", \"Parch\"]\n",
        "for c in category1:\n",
        "    bar_plot(c)"
      ],
      "metadata": {
        "execution": {
          "iopub.status.busy": "2022-02-26T11:59:48.259412Z",
          "iopub.execute_input": "2022-02-26T11:59:48.259706Z",
          "iopub.status.idle": "2022-02-26T11:59:49.278293Z",
          "shell.execute_reply.started": "2022-02-26T11:59:48.259675Z",
          "shell.execute_reply": "2022-02-26T11:59:49.277340Z"
        },
        "trusted": true,
        "id": "l3_-VkTXPOXe"
      },
      "execution_count": null,
      "outputs": []
    },
    {
      "cell_type": "markdown",
      "source": [
        " # **Analysis:**\n",
        " \n",
        "1. The values are not equal, 549 died, 342 alive. We can conclude that dataset of Survive is inbalance. \n",
        "2. Dataset of Sex is also inbalance. We can say that the number of women is about half the men.\n",
        "If there isa a passenger whom we dont know his/her identity,  we can  predict of this passenger that is \n",
        "high probably a male.\n",
        "3. There are three classes of passenger. According to data, we can easily see that most of the deads are 3rd class of passengers. \n",
        "Probably, these groups of passengers had travelled at the ground floors of the ship. We can conclude that during the evacuation of the ship, \n",
        "the filikas(lifeboats) were given priority to first class of passengers, children and women.\n",
        "4. We can say that most of the passenger are from Southampton (644), the least of them are from Ouenstown(77).\n",
        "5. According to fifth figure, we can state that most of the passengers (686) havent any parental relations.\n",
        "6. 678 of The passengers has no relationship with other passengers. We can say that while first class of \n",
        "passengers had been travelling for an adventure trip, a these alone passengers might have traveled to reach America for settling a new life."
      ],
      "metadata": {
        "id": "NRGAzswVPOXe"
      }
    },
    {
      "cell_type": "code",
      "source": [
        "category2 = [\"Cabin\", \"Name\", \"Ticket\"]\n",
        "for c in category2:\n",
        "    print(\"{} \\n\".format(train_df[c].value_counts()))"
      ],
      "metadata": {
        "execution": {
          "iopub.status.busy": "2022-02-26T11:59:49.279934Z",
          "iopub.execute_input": "2022-02-26T11:59:49.280292Z",
          "iopub.status.idle": "2022-02-26T11:59:49.298492Z",
          "shell.execute_reply.started": "2022-02-26T11:59:49.280245Z",
          "shell.execute_reply": "2022-02-26T11:59:49.297396Z"
        },
        "trusted": true,
        "id": "hAUCi5vKPOXf"
      },
      "execution_count": null,
      "outputs": []
    },
    {
      "cell_type": "markdown",
      "source": [
        "<a id =\"5\"></a><br>\n",
        "# **Numerical Variable Analysis**"
      ],
      "metadata": {
        "id": "2l2OUVv-POXf"
      }
    },
    {
      "cell_type": "code",
      "source": [
        "def plot_hist(variable):\n",
        "    \n",
        "    plt.figure(figsize=(9,3)) \n",
        "    plt.hist(train_df[variable], bins = 100)    #  bins= 10  default 10\n",
        "    plt.xlabel(variable)\n",
        "    plt.ylabel(\"Frequency\")\n",
        "    plt.title(\"{} distribution with hist\".format(variable))\n",
        "    plt.show()\n",
        "    \n"
      ],
      "metadata": {
        "execution": {
          "iopub.status.busy": "2022-02-26T11:59:49.299928Z",
          "iopub.execute_input": "2022-02-26T11:59:49.300561Z",
          "iopub.status.idle": "2022-02-26T11:59:49.316797Z",
          "shell.execute_reply.started": "2022-02-26T11:59:49.300520Z",
          "shell.execute_reply": "2022-02-26T11:59:49.315952Z"
        },
        "trusted": true,
        "id": "rc9TfO44POXf"
      },
      "execution_count": null,
      "outputs": []
    },
    {
      "cell_type": "code",
      "source": [
        "numericVar = [\"Fare\", \"Age\", \"PassengerId\"]\n",
        "\n",
        "for n in numericVar:\n",
        "    plot_hist(n)"
      ],
      "metadata": {
        "execution": {
          "iopub.status.busy": "2022-02-26T11:59:49.318362Z",
          "iopub.execute_input": "2022-02-26T11:59:49.319276Z",
          "iopub.status.idle": "2022-02-26T11:59:50.645300Z",
          "shell.execute_reply.started": "2022-02-26T11:59:49.319230Z",
          "shell.execute_reply": "2022-02-26T11:59:50.644475Z"
        },
        "trusted": true,
        "id": "PkzLcFZyPOXg"
      },
      "execution_count": null,
      "outputs": []
    },
    {
      "cell_type": "markdown",
      "source": [
        " # **Analysis:**\n",
        "\n",
        "**Figure 1: ** \n",
        "We can see that most of the passengers had paid less than 50$. \n",
        "We can conclude that they are second and third class passengers. There is small group of passengers  that paid more than 100$. \n",
        "Probably their tickets might have been paid in group as family or relative. We can't make an exact inference about whether they are rich or poor passengers.\n",
        "\n",
        "**Figure-2 : ** We can conclude that there are passengers from every ages of group.  Especially we can remark that there is an enough amount of children that we cant ignore.  And we can certainly state that most of the passengers are at middle-age group between 20-40s.  If we ignore below age 14, we can see the there is a right skewed distribution at figure-2.  It means that mean of age is bigger tham median and mode. And most of the passengers are accumulated between 20-30s."
      ],
      "metadata": {
        "id": "i-n1UcvFPOXg"
      }
    },
    {
      "cell_type": "code",
      "source": [
        "# line-Plot: \n",
        "\n",
        "train_df.Age.plot(kind = 'line', color = 'black',label = 'Age',linewidth=2,alpha = 1,grid = True,linestyle = '-', figsize=(16,8))\n",
        "train_df.Fare.plot(color = 'orange',label = 'Fare',linewidth=1, alpha = 1,grid = True,linestyle = '-')\n",
        "plt.legend(loc='upper right')     \n",
        "plt.xlabel('x axis')              \n",
        "plt.ylabel('y axis')\n",
        "plt.title('Line Plot')            \n",
        "plt.show()"
      ],
      "metadata": {
        "execution": {
          "iopub.status.busy": "2022-02-26T11:59:50.646663Z",
          "iopub.execute_input": "2022-02-26T11:59:50.647136Z",
          "iopub.status.idle": "2022-02-26T11:59:50.927502Z",
          "shell.execute_reply.started": "2022-02-26T11:59:50.647090Z",
          "shell.execute_reply": "2022-02-26T11:59:50.926279Z"
        },
        "trusted": true,
        "id": "qrk8zqmjPOXg"
      },
      "execution_count": null,
      "outputs": []
    },
    {
      "cell_type": "code",
      "source": [
        "# Scatter Plot \n",
        "\n",
        "train_df.plot(kind='scatter', x='Age', y='Fare',alpha = 0.3,color = 'red')\n",
        "plt.xlabel('Age')              # label = name of label\n",
        "plt.ylabel('Fare')\n",
        "plt.title('Age-Fare Scatter Plot')  "
      ],
      "metadata": {
        "execution": {
          "iopub.status.busy": "2022-02-26T11:59:50.929592Z",
          "iopub.execute_input": "2022-02-26T11:59:50.929854Z",
          "iopub.status.idle": "2022-02-26T11:59:51.185872Z",
          "shell.execute_reply.started": "2022-02-26T11:59:50.929825Z",
          "shell.execute_reply": "2022-02-26T11:59:51.184960Z"
        },
        "trusted": true,
        "id": "JUfr7LriPOXg"
      },
      "execution_count": null,
      "outputs": []
    },
    {
      "cell_type": "markdown",
      "source": [
        "<a id =\"6\"></a><br>\n",
        "# **Basic Data Analysis**\n",
        "\n",
        "**1. Pclass - Survived**\n",
        "\n",
        "**2. Sex - Survived**\n",
        "\n",
        "**3. SibSp - Survived**\n",
        "\n",
        "**4. Parch - Survived**"
      ],
      "metadata": {
        "id": "G1y4NBeHPOXh"
      }
    },
    {
      "cell_type": "code",
      "source": [
        "#correlation map\n",
        "f,ax = plt.subplots(figsize=(12, 10))\n",
        "sns.heatmap(train_df.corr(), annot=True, linewidths=.5, fmt= '.1f',ax=ax)\n",
        "plt.show()"
      ],
      "metadata": {
        "execution": {
          "iopub.status.busy": "2022-02-26T11:59:51.187614Z",
          "iopub.execute_input": "2022-02-26T11:59:51.187879Z",
          "iopub.status.idle": "2022-02-26T11:59:51.660962Z",
          "shell.execute_reply.started": "2022-02-26T11:59:51.187846Z",
          "shell.execute_reply": "2022-02-26T11:59:51.659799Z"
        },
        "trusted": true,
        "id": "3Qbi0hSqPOXh"
      },
      "execution_count": null,
      "outputs": []
    },
    {
      "cell_type": "code",
      "source": [
        "df_corr = train_df.corr()[[\"Survived\"]].sort_values(by=\"Survived\", ascending=False)\n",
        "df_corr"
      ],
      "metadata": {
        "execution": {
          "iopub.status.busy": "2022-02-26T11:59:51.662264Z",
          "iopub.execute_input": "2022-02-26T11:59:51.662507Z",
          "iopub.status.idle": "2022-02-26T11:59:51.674548Z",
          "shell.execute_reply.started": "2022-02-26T11:59:51.662478Z",
          "shell.execute_reply": "2022-02-26T11:59:51.673781Z"
        },
        "trusted": true,
        "id": "HKWJHq_7POXh"
      },
      "execution_count": null,
      "outputs": []
    },
    {
      "cell_type": "code",
      "source": [
        "plt.figure(figsize=(3, 6)) \n",
        "sns.heatmap(df_corr, annot= True, cmap=\"BrBG\", vmin= -1, vmax= 1)"
      ],
      "metadata": {
        "execution": {
          "iopub.status.busy": "2022-02-26T11:59:51.675913Z",
          "iopub.execute_input": "2022-02-26T11:59:51.676145Z",
          "iopub.status.idle": "2022-02-26T11:59:51.987365Z",
          "shell.execute_reply.started": "2022-02-26T11:59:51.676112Z",
          "shell.execute_reply": "2022-02-26T11:59:51.986194Z"
        },
        "trusted": true,
        "id": "JGOZGoiNPOXh"
      },
      "execution_count": null,
      "outputs": []
    },
    {
      "cell_type": "markdown",
      "source": [
        " # **Analysis:**\n",
        " \n",
        "Correlation is a measure of the relationship between two variables. The measure (identified by the variable r) reflects both the strength of the relation on a scale from 0 to 1 and its direction - either positive or negative. No relation is indicated when r is in the neighborhood of zero.\n",
        "\n",
        "* -1 indicates a perfectly negative linear correlation between two variables.\n",
        "* 0 indicates no linear correlation between two variables.\n",
        "* 1 indicates a perfectly positive linear correlation between two variables.\n",
        "\n",
        "Now, we can see the relationship between two variables at map. For example there is a negative correlation between Fare and Pclass. Furthermore there is slightly negative correlation between Survived and Pclass. It means that as the prices goes down, the percentage of dead 2nd and 3rd Class passengers goes up. On the other hand, we can say that there is slightly positive correlation between Fare and Survived of passengers. As the price of ticket goes up, the percentage of survived passengers goes up slightly."
      ],
      "metadata": {
        "id": "urwg5SfYPOXi"
      }
    },
    {
      "cell_type": "markdown",
      "source": [
        "# Pclass- Survived:"
      ],
      "metadata": {
        "id": "G1hGePppPOXi"
      }
    },
    {
      "cell_type": "code",
      "source": [
        "train_df[[\"Pclass\", \"Survived\"]].groupby([\"Pclass\"],as_index= False).mean().sort_values(by=\"Survived\", ascending=False)"
      ],
      "metadata": {
        "execution": {
          "iopub.status.busy": "2022-02-26T11:59:51.988674Z",
          "iopub.execute_input": "2022-02-26T11:59:51.988898Z",
          "iopub.status.idle": "2022-02-26T11:59:52.006014Z",
          "shell.execute_reply.started": "2022-02-26T11:59:51.988872Z",
          "shell.execute_reply": "2022-02-26T11:59:52.004818Z"
        },
        "trusted": true,
        "id": "kh9zS1IBPOXi"
      },
      "execution_count": null,
      "outputs": []
    },
    {
      "cell_type": "markdown",
      "source": [
        "# Sex- Survived:"
      ],
      "metadata": {
        "id": "uX0eB40dPOXi"
      }
    },
    {
      "cell_type": "code",
      "source": [
        "train_df[[\"Sex\", \"Survived\"]].groupby([\"Sex\"],as_index= False).mean().sort_values(by=\"Survived\", ascending=False)"
      ],
      "metadata": {
        "execution": {
          "iopub.status.busy": "2022-02-26T11:59:52.007247Z",
          "iopub.execute_input": "2022-02-26T11:59:52.007555Z",
          "iopub.status.idle": "2022-02-26T11:59:52.033978Z",
          "shell.execute_reply.started": "2022-02-26T11:59:52.007464Z",
          "shell.execute_reply": "2022-02-26T11:59:52.032722Z"
        },
        "trusted": true,
        "id": "QT0_v2bgPOXi"
      },
      "execution_count": null,
      "outputs": []
    },
    {
      "cell_type": "markdown",
      "source": [
        "# SibSp- Survived:"
      ],
      "metadata": {
        "id": "EYHvGWtTPOXi"
      }
    },
    {
      "cell_type": "code",
      "source": [
        "train_df[[\"SibSp\", \"Survived\"]].groupby([\"SibSp\"],as_index= False).mean().sort_values(by=\"Survived\", ascending=False)"
      ],
      "metadata": {
        "execution": {
          "iopub.status.busy": "2022-02-26T11:59:52.035375Z",
          "iopub.execute_input": "2022-02-26T11:59:52.036057Z",
          "iopub.status.idle": "2022-02-26T11:59:52.056211Z",
          "shell.execute_reply.started": "2022-02-26T11:59:52.035963Z",
          "shell.execute_reply": "2022-02-26T11:59:52.055103Z"
        },
        "trusted": true,
        "id": "i2aK9uaRPOXj"
      },
      "execution_count": null,
      "outputs": []
    },
    {
      "cell_type": "markdown",
      "source": [
        "# Parch - Survived:"
      ],
      "metadata": {
        "id": "EtRsbmd_POXj"
      }
    },
    {
      "cell_type": "code",
      "source": [
        "train_df[[\"Parch\", \"Survived\"]].groupby([\"Parch\"],as_index= False).mean().sort_values(by=\"Survived\", ascending=False)"
      ],
      "metadata": {
        "execution": {
          "iopub.status.busy": "2022-02-26T11:59:52.057638Z",
          "iopub.execute_input": "2022-02-26T11:59:52.058012Z",
          "iopub.status.idle": "2022-02-26T11:59:52.079722Z",
          "shell.execute_reply.started": "2022-02-26T11:59:52.057966Z",
          "shell.execute_reply": "2022-02-26T11:59:52.078870Z"
        },
        "trusted": true,
        "id": "3JnAvfG7POXj"
      },
      "execution_count": null,
      "outputs": []
    },
    {
      "cell_type": "markdown",
      "source": [
        "<a id =\"7\"></a><br>\n",
        "# **Outlier Detection**"
      ],
      "metadata": {
        "id": "h9kdHjvEPOXj"
      }
    },
    {
      "cell_type": "code",
      "source": [
        "def detect_outliers (df, features):\n",
        "    outlier_indices = []\n",
        "    \n",
        "    for c in features:\n",
        "        Q1 = np.percentile(df[c], 25)\n",
        "        Q3 = np.percentile(df[c], 75)\n",
        "        IQR = Q3-Q1\n",
        "        outlier_step = IQR * 1.5\n",
        "        outlier_list_col = df[(df[c] < Q1 - outlier_step) | (df[c] > Q3 + outlier_step)].index\n",
        "        outlier_indices.extend(outlier_list_col)\n",
        "        \n",
        "    outlier_indices = Counter(outlier_indices)\n",
        "    multiple_outliers = list(i for i,v in outlier_indices.items() if v > 2)\n",
        "    \n",
        "    return multiple_outliers"
      ],
      "metadata": {
        "execution": {
          "iopub.status.busy": "2022-02-26T11:59:52.081188Z",
          "iopub.execute_input": "2022-02-26T11:59:52.081462Z",
          "iopub.status.idle": "2022-02-26T11:59:52.090832Z",
          "shell.execute_reply.started": "2022-02-26T11:59:52.081414Z",
          "shell.execute_reply": "2022-02-26T11:59:52.089547Z"
        },
        "trusted": true,
        "id": "Ku-e2i7TPOXj"
      },
      "execution_count": null,
      "outputs": []
    },
    {
      "cell_type": "markdown",
      "source": [
        "**Droping Outliers:**"
      ],
      "metadata": {
        "id": "xZFjksAEPOXk"
      }
    },
    {
      "cell_type": "code",
      "source": [
        "train_df.loc[detect_outliers(train_df,[\"Age\",\"SibSp\", \"Parch\", \"Fare\"])]       # Outliers çıktı ! "
      ],
      "metadata": {
        "execution": {
          "iopub.status.busy": "2022-02-26T11:59:52.092809Z",
          "iopub.execute_input": "2022-02-26T11:59:52.093359Z",
          "iopub.status.idle": "2022-02-26T11:59:52.130927Z",
          "shell.execute_reply.started": "2022-02-26T11:59:52.093258Z",
          "shell.execute_reply": "2022-02-26T11:59:52.129898Z"
        },
        "trusted": true,
        "id": "j0QFbtzMPOXk"
      },
      "execution_count": null,
      "outputs": []
    },
    {
      "cell_type": "code",
      "source": [
        "train_df = train_df.drop(detect_outliers(train_df,[\"Age\",\"SibSp\", \"Parch\", \"Fare\"]), axis= 0).reset_index(drop= True)"
      ],
      "metadata": {
        "execution": {
          "iopub.status.busy": "2022-02-26T11:59:52.133146Z",
          "iopub.execute_input": "2022-02-26T11:59:52.133513Z",
          "iopub.status.idle": "2022-02-26T11:59:52.147092Z",
          "shell.execute_reply.started": "2022-02-26T11:59:52.133467Z",
          "shell.execute_reply": "2022-02-26T11:59:52.145782Z"
        },
        "trusted": true,
        "id": "j_x2ivPhPOXk"
      },
      "execution_count": null,
      "outputs": []
    },
    {
      "cell_type": "code",
      "source": [
        "train_df"
      ],
      "metadata": {
        "execution": {
          "iopub.status.busy": "2022-02-26T11:59:52.151832Z",
          "iopub.execute_input": "2022-02-26T11:59:52.152922Z",
          "iopub.status.idle": "2022-02-26T11:59:52.178811Z",
          "shell.execute_reply.started": "2022-02-26T11:59:52.152872Z",
          "shell.execute_reply": "2022-02-26T11:59:52.177946Z"
        },
        "trusted": true,
        "id": "Jnm7LmiuPOXk"
      },
      "execution_count": null,
      "outputs": []
    },
    {
      "cell_type": "markdown",
      "source": [
        "<a id =\"8\"></a><br>\n",
        "# **Missing Values**"
      ],
      "metadata": {
        "id": "93GeyuZyPOXl"
      }
    },
    {
      "cell_type": "code",
      "source": [
        " test_df = pd.read_csv(\"/kaggle/input/titanic-machine-learning-from-disaster/test.csv\")"
      ],
      "metadata": {
        "execution": {
          "iopub.status.busy": "2022-02-26T11:59:52.180161Z",
          "iopub.execute_input": "2022-02-26T11:59:52.180918Z",
          "iopub.status.idle": "2022-02-26T11:59:52.191783Z",
          "shell.execute_reply.started": "2022-02-26T11:59:52.180869Z",
          "shell.execute_reply": "2022-02-26T11:59:52.191075Z"
        },
        "trusted": true,
        "id": "oogtVQ9VPOXl"
      },
      "execution_count": null,
      "outputs": []
    },
    {
      "cell_type": "code",
      "source": [
        "train_df_len = len(train_df)\n",
        "train_df= pd.concat([train_df,test_df], axis=0).reset_index(drop=True)"
      ],
      "metadata": {
        "execution": {
          "iopub.status.busy": "2022-02-26T11:59:52.193216Z",
          "iopub.execute_input": "2022-02-26T11:59:52.194596Z",
          "iopub.status.idle": "2022-02-26T11:59:52.207093Z",
          "shell.execute_reply.started": "2022-02-26T11:59:52.194541Z",
          "shell.execute_reply": "2022-02-26T11:59:52.205864Z"
        },
        "trusted": true,
        "id": "wWBQUO9sPOXl"
      },
      "execution_count": null,
      "outputs": []
    },
    {
      "cell_type": "code",
      "source": [
        "train_df.head()"
      ],
      "metadata": {
        "execution": {
          "iopub.status.busy": "2022-02-26T11:59:52.208510Z",
          "iopub.execute_input": "2022-02-26T11:59:52.208907Z",
          "iopub.status.idle": "2022-02-26T11:59:52.234553Z",
          "shell.execute_reply.started": "2022-02-26T11:59:52.208871Z",
          "shell.execute_reply": "2022-02-26T11:59:52.233374Z"
        },
        "trusted": true,
        "id": "ko-THUwxPOXl"
      },
      "execution_count": null,
      "outputs": []
    },
    {
      "cell_type": "markdown",
      "source": [
        "<a id =\"9\"></a><br>\n",
        "# Finding Missing Values:"
      ],
      "metadata": {
        "id": "HfnbzzXRPOXl"
      }
    },
    {
      "cell_type": "code",
      "source": [
        "train_df.columns"
      ],
      "metadata": {
        "execution": {
          "iopub.status.busy": "2022-02-26T11:59:52.236058Z",
          "iopub.execute_input": "2022-02-26T11:59:52.236770Z",
          "iopub.status.idle": "2022-02-26T11:59:52.250883Z",
          "shell.execute_reply.started": "2022-02-26T11:59:52.236711Z",
          "shell.execute_reply": "2022-02-26T11:59:52.249844Z"
        },
        "trusted": true,
        "id": "QF8APDBJPOXl"
      },
      "execution_count": null,
      "outputs": []
    },
    {
      "cell_type": "code",
      "source": [
        "train_df.isnull()"
      ],
      "metadata": {
        "execution": {
          "iopub.status.busy": "2022-02-26T11:59:52.252550Z",
          "iopub.execute_input": "2022-02-26T11:59:52.253353Z",
          "iopub.status.idle": "2022-02-26T11:59:52.288501Z",
          "shell.execute_reply.started": "2022-02-26T11:59:52.253296Z",
          "shell.execute_reply": "2022-02-26T11:59:52.287624Z"
        },
        "trusted": true,
        "id": "8XCAt4wQPOXm"
      },
      "execution_count": null,
      "outputs": []
    },
    {
      "cell_type": "code",
      "source": [
        "train_df.columns[train_df.isnull().any()]"
      ],
      "metadata": {
        "execution": {
          "iopub.status.busy": "2022-02-26T11:59:52.290259Z",
          "iopub.execute_input": "2022-02-26T11:59:52.290805Z",
          "iopub.status.idle": "2022-02-26T11:59:52.301633Z",
          "shell.execute_reply.started": "2022-02-26T11:59:52.290756Z",
          "shell.execute_reply": "2022-02-26T11:59:52.300666Z"
        },
        "trusted": true,
        "id": "BtgfawvnPOXm"
      },
      "execution_count": null,
      "outputs": []
    },
    {
      "cell_type": "code",
      "source": [
        "train_df.isnull().sum()"
      ],
      "metadata": {
        "execution": {
          "iopub.status.busy": "2022-02-26T11:59:52.303418Z",
          "iopub.execute_input": "2022-02-26T11:59:52.303718Z",
          "iopub.status.idle": "2022-02-26T11:59:52.320042Z",
          "shell.execute_reply.started": "2022-02-26T11:59:52.303684Z",
          "shell.execute_reply": "2022-02-26T11:59:52.318730Z"
        },
        "trusted": true,
        "id": "o_dG8ALOPOXm"
      },
      "execution_count": null,
      "outputs": []
    },
    {
      "cell_type": "markdown",
      "source": [
        " # **Analysis:**\n",
        "\n",
        "Missing Values are in columns of Survived (418), Age(256), Fare(1), Cabin(1007) and Embarked(2). Since there is a distribution of different age of groups, We should be carefull while handling and filling missings of column Age. \n",
        "Data of Cabin is not so important for us. We wont do anything for it. "
      ],
      "metadata": {
        "id": "RPqM4P5bPOXm"
      }
    },
    {
      "cell_type": "markdown",
      "source": [
        "<a id =\"10\"></a><br>\n",
        "# Finding Missing Values:\n",
        "*  Embarked has 2 missing values\n",
        "*  Fare has only 1 missing value"
      ],
      "metadata": {
        "id": "WQHwI0XjPOXm"
      }
    },
    {
      "cell_type": "markdown",
      "source": [
        "# Embarked:"
      ],
      "metadata": {
        "id": "bwNesgwLPOXm"
      }
    },
    {
      "cell_type": "code",
      "source": [
        "train_df[train_df[\"Embarked\"].isnull()]"
      ],
      "metadata": {
        "execution": {
          "iopub.status.busy": "2022-02-26T11:59:52.321620Z",
          "iopub.execute_input": "2022-02-26T11:59:52.322572Z",
          "iopub.status.idle": "2022-02-26T11:59:52.345981Z",
          "shell.execute_reply.started": "2022-02-26T11:59:52.322479Z",
          "shell.execute_reply": "2022-02-26T11:59:52.345223Z"
        },
        "trusted": true,
        "id": "Vg0brctSPOXn"
      },
      "execution_count": null,
      "outputs": []
    },
    {
      "cell_type": "code",
      "source": [
        "train_df.boxplot(column=\"Fare\", by= \"Embarked\")\n",
        "plt.show()"
      ],
      "metadata": {
        "execution": {
          "iopub.status.busy": "2022-02-26T11:59:52.347007Z",
          "iopub.execute_input": "2022-02-26T11:59:52.347418Z",
          "iopub.status.idle": "2022-02-26T11:59:52.505990Z",
          "shell.execute_reply.started": "2022-02-26T11:59:52.347383Z",
          "shell.execute_reply": "2022-02-26T11:59:52.504752Z"
        },
        "trusted": true,
        "id": "jjxBkttuPOXn"
      },
      "execution_count": null,
      "outputs": []
    },
    {
      "cell_type": "markdown",
      "source": [
        " # **Analysis:**\n",
        "\n",
        "When we analyzed the boxplot's, we can see three boxplot which are related to passengers embarked. First boxplot shows us passengers from Cherbourg, second from Ouenstown, and third one from Southampton. The mean of Second Boxplot is very low and we can say that these passengers are low-income. The third Boxplot is higher than the second one. But we can classify it as middlegroup and lower-income. When we lokk at the first Boxplot, we can easily see that passengers of income are higher than both second and third group. On the other hand,Missing values are 80 $. The upper outliers of second and third Boxplot are below of 80$. When we compare 80 $ with first Boxplot, it is easy to see the familiarity. As a result, we conclude that two missing values are suitable for the first boxplot and we can say that these pssengers might embark on the ship in Cherbourg."
      ],
      "metadata": {
        "id": "WY8ZKjbrPOXn"
      }
    },
    {
      "cell_type": "code",
      "source": [
        "train_df[\"Embarked\"] = train_df[\"Embarked\"].fillna(\"C\")"
      ],
      "metadata": {
        "execution": {
          "iopub.status.busy": "2022-02-26T11:59:52.507711Z",
          "iopub.execute_input": "2022-02-26T11:59:52.508933Z",
          "iopub.status.idle": "2022-02-26T11:59:52.515697Z",
          "shell.execute_reply.started": "2022-02-26T11:59:52.508872Z",
          "shell.execute_reply": "2022-02-26T11:59:52.514667Z"
        },
        "trusted": true,
        "id": "sQtLhkFgPOXn"
      },
      "execution_count": null,
      "outputs": []
    },
    {
      "cell_type": "code",
      "source": [
        "train_df[\"Embarked\"].isnull().any() "
      ],
      "metadata": {
        "execution": {
          "iopub.status.busy": "2022-02-26T11:59:52.517285Z",
          "iopub.execute_input": "2022-02-26T11:59:52.518664Z",
          "iopub.status.idle": "2022-02-26T11:59:52.533028Z",
          "shell.execute_reply.started": "2022-02-26T11:59:52.518603Z",
          "shell.execute_reply": "2022-02-26T11:59:52.532278Z"
        },
        "trusted": true,
        "id": "F1YA1tqzPOXo"
      },
      "execution_count": null,
      "outputs": []
    },
    {
      "cell_type": "markdown",
      "source": [
        "# Fare:"
      ],
      "metadata": {
        "id": "ySLOFKw9POXo"
      }
    },
    {
      "cell_type": "code",
      "source": [
        "train_df[train_df[\"Fare\"].isnull()]"
      ],
      "metadata": {
        "execution": {
          "iopub.status.busy": "2022-02-26T11:59:52.534166Z",
          "iopub.execute_input": "2022-02-26T11:59:52.535161Z",
          "iopub.status.idle": "2022-02-26T11:59:52.557390Z",
          "shell.execute_reply.started": "2022-02-26T11:59:52.535102Z",
          "shell.execute_reply": "2022-02-26T11:59:52.556472Z"
        },
        "trusted": true,
        "id": "-Xq-4r5wPOXo"
      },
      "execution_count": null,
      "outputs": []
    },
    {
      "cell_type": "code",
      "source": [
        "train_df[train_df[\"Pclass\"] == 3][\"Fare\"]"
      ],
      "metadata": {
        "execution": {
          "iopub.status.busy": "2022-02-26T11:59:52.559262Z",
          "iopub.execute_input": "2022-02-26T11:59:52.559598Z",
          "iopub.status.idle": "2022-02-26T11:59:52.574318Z",
          "shell.execute_reply.started": "2022-02-26T11:59:52.559554Z",
          "shell.execute_reply": "2022-02-26T11:59:52.573531Z"
        },
        "trusted": true,
        "id": "ZkycFdYgPOXo"
      },
      "execution_count": null,
      "outputs": []
    },
    {
      "cell_type": "code",
      "source": [
        "fare_mean = train_df[train_df[\"Pclass\"] == 3][\"Fare\"].mean()\n",
        "fare_mean"
      ],
      "metadata": {
        "execution": {
          "iopub.status.busy": "2022-02-26T11:59:52.576080Z",
          "iopub.execute_input": "2022-02-26T11:59:52.577210Z",
          "iopub.status.idle": "2022-02-26T11:59:52.586943Z",
          "shell.execute_reply.started": "2022-02-26T11:59:52.577139Z",
          "shell.execute_reply": "2022-02-26T11:59:52.586048Z"
        },
        "trusted": true,
        "id": "mlp7hp9ePOXo"
      },
      "execution_count": null,
      "outputs": []
    },
    {
      "cell_type": "code",
      "source": [
        "train_df[\"Fare\"]= train_df[\"Fare\"].fillna(fare_mean)"
      ],
      "metadata": {
        "execution": {
          "iopub.status.busy": "2022-02-26T11:59:52.588212Z",
          "iopub.execute_input": "2022-02-26T11:59:52.588491Z",
          "iopub.status.idle": "2022-02-26T11:59:52.602276Z",
          "shell.execute_reply.started": "2022-02-26T11:59:52.588424Z",
          "shell.execute_reply": "2022-02-26T11:59:52.601277Z"
        },
        "trusted": true,
        "id": "7hd3Z_hjPOXo"
      },
      "execution_count": null,
      "outputs": []
    },
    {
      "cell_type": "code",
      "source": [
        "train_df[\"Fare\"].isnull().any() "
      ],
      "metadata": {
        "execution": {
          "iopub.status.busy": "2022-02-26T11:59:52.603905Z",
          "iopub.execute_input": "2022-02-26T11:59:52.604160Z",
          "iopub.status.idle": "2022-02-26T11:59:52.616939Z",
          "shell.execute_reply.started": "2022-02-26T11:59:52.604129Z",
          "shell.execute_reply": "2022-02-26T11:59:52.616072Z"
        },
        "trusted": true,
        "id": "zgcZAO6dPOXo"
      },
      "execution_count": null,
      "outputs": []
    },
    {
      "cell_type": "markdown",
      "source": [
        "# Finally:\n",
        "**After we detected the missing Vlaues, we repleaced the missing values with new meaningful Values without detoriating the DataFrame.**\n",
        "**While manipulating the our DataFrames, we had to handle correctly. Otherwise, we can deform our DataFrame and get wrong results and make wrong analysises.**"
      ],
      "metadata": {
        "id": "_pUH0ygKPOXo"
      }
    },
    {
      "cell_type": "markdown",
      "source": [
        ""
      ],
      "metadata": {
        "id": "c37s8GquPOXp"
      }
    }
  ]
}